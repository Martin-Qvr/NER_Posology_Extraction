{
 "cells": [
  {
   "cell_type": "markdown",
   "metadata": {},
   "source": [
    "# LOAD DATA\n"
   ]
  },
  {
   "cell_type": "code",
   "execution_count": 1,
   "id": "447c179b",
   "metadata": {},
   "outputs": [],
   "source": [
    "import pandas as pd\n",
    "import numpy as np\n",
    "import json"
   ]
  },
  {
   "cell_type": "code",
   "execution_count": 2,
   "id": "e0deb1ed",
   "metadata": {},
   "outputs": [],
   "source": [
    "data = pd.read_json(\"Data_for_labeling_trainset.jsonl\", lines=True)"
   ]
  },
  {
   "cell_type": "code",
   "execution_count": 3,
   "id": "c45a3e22",
   "metadata": {},
   "outputs": [
    {
     "data": {
      "text/html": [
       "<div>\n",
       "<style scoped>\n",
       "    .dataframe tbody tr th:only-of-type {\n",
       "        vertical-align: middle;\n",
       "    }\n",
       "\n",
       "    .dataframe tbody tr th {\n",
       "        vertical-align: top;\n",
       "    }\n",
       "\n",
       "    .dataframe thead th {\n",
       "        text-align: right;\n",
       "    }\n",
       "</style>\n",
       "<table border=\"1\" class=\"dataframe\">\n",
       "  <thead>\n",
       "    <tr style=\"text-align: right;\">\n",
       "      <th></th>\n",
       "      <th>text</th>\n",
       "      <th>meta</th>\n",
       "    </tr>\n",
       "  </thead>\n",
       "  <tbody>\n",
       "    <tr>\n",
       "      <th>0</th>\n",
       "      <td>Un homme âgé de 77 ans présentait des signes c...</td>\n",
       "      <td>{'Id': '150'}</td>\n",
       "    </tr>\n",
       "    <tr>\n",
       "      <th>1</th>\n",
       "      <td>Mr. R,R âgé de 53 ans sans antécédents patholo...</td>\n",
       "      <td>{'Id': '151'}</td>\n",
       "    </tr>\n",
       "    <tr>\n",
       "      <th>2</th>\n",
       "      <td>Un homme de 47 ans aux antécédents d’infarctus...</td>\n",
       "      <td>{'Id': '152'}</td>\n",
       "    </tr>\n",
       "    <tr>\n",
       "      <th>3</th>\n",
       "      <td>Mme C.S..., âgée de 25 ans, célibataire, sans ...</td>\n",
       "      <td>{'Id': '153'}</td>\n",
       "    </tr>\n",
       "    <tr>\n",
       "      <th>4</th>\n",
       "      <td>Un adénocarcinome prostatique avait été diagno...</td>\n",
       "      <td>{'Id': '154'}</td>\n",
       "    </tr>\n",
       "  </tbody>\n",
       "</table>\n",
       "</div>"
      ],
      "text/plain": [
       "                                                text           meta\n",
       "0  Un homme âgé de 77 ans présentait des signes c...  {'Id': '150'}\n",
       "1  Mr. R,R âgé de 53 ans sans antécédents patholo...  {'Id': '151'}\n",
       "2  Un homme de 47 ans aux antécédents d’infarctus...  {'Id': '152'}\n",
       "3  Mme C.S..., âgée de 25 ans, célibataire, sans ...  {'Id': '153'}\n",
       "4  Un adénocarcinome prostatique avait été diagno...  {'Id': '154'}"
      ]
     },
     "execution_count": 3,
     "metadata": {},
     "output_type": "execute_result"
    }
   ],
   "source": [
    "data.head()"
   ]
  },
  {
   "cell_type": "code",
   "execution_count": 4,
   "id": "a214e4b6",
   "metadata": {},
   "outputs": [
    {
     "data": {
      "text/plain": [
       "(567, 2)"
      ]
     },
     "execution_count": 4,
     "metadata": {},
     "output_type": "execute_result"
    }
   ],
   "source": [
    "data.shape"
   ]
  },
  {
   "cell_type": "code",
   "execution_count": 5,
   "id": "1c39324f",
   "metadata": {},
   "outputs": [
    {
     "data": {
      "text/plain": [
       "'Patient de 68 ans, sans antécédents notables, est admis pour des douleurs abdominales aigues avec des nausées et des vomissements incoercibles dans un contexte d’altération de l’état général (AEG) et de douleurs osseuse. L’examen clinique trouve un patient apyrétique, déshydraté avec un indice OMS à 3. L’examen ostéoarticulaire révèle des douleurs provoquées par la palpation surtout des vertèbres. Le bilan biochimique montre une hypercalcémie majeure à 140 mg/l, une Béta2µglobuline à 22mg/l et une insuffisance rénale avec une clairance à 8 ml/mn. Le protidogramme note un pic oligoclonale à 7g/l avec une hypoalbuminémie à 16g/l. L’immunofixation confirme la présence d’une chaine légère libres monoclonales d’isotypie Lambda. La protéinurie de Bence jonces est positif ; le dosage des chaines légères libres n’a pu être réalisé. Sur le plan hématologique, l’hémogramme trouve une anémie normochrome normocytaire à 9,9 g/dl, une hyperleucocytose à 16,6 Giga/l et un taux de plaquettes à 171Giga/l avec au frottis une plasmocytose sanguine estimée à 3 Giga/l. Le myélogramme retrouve une moelle envahie à 65% de plasmocytes. L’analyse cytogénétique par FISH ne montre pas d’anomalies péjoratives (notamment la t(4,14) et la del 17p). Le bilan osseux révèle un tassement vertébral de D12 à L3. Le diagnostic de leucémie à plasmocytes a été retenu. Sur le plan thérapeutique le patient a été mis sous protocole VTD (Velcade + Thalidomide + Déxaméthasone) associé des Biphosphonates mensuels. Le patient a reçu au total 6 cures VTD et 12 injections de Bisphosphonates avec obtention d’une rémission complète persistante à six mois de fin traitement. Le patient est actuellement en attente d’une autogreffe.\\n'"
      ]
     },
     "execution_count": 5,
     "metadata": {},
     "output_type": "execute_result"
    }
   ],
   "source": [
    "data.iloc[440][\"text\"]"
   ]
  },
  {
   "cell_type": "code",
   "execution_count": 6,
   "id": "febd1c24",
   "metadata": {},
   "outputs": [
    {
     "data": {
      "text/html": [
       "<div>\n",
       "<style scoped>\n",
       "    .dataframe tbody tr th:only-of-type {\n",
       "        vertical-align: middle;\n",
       "    }\n",
       "\n",
       "    .dataframe tbody tr th {\n",
       "        vertical-align: top;\n",
       "    }\n",
       "\n",
       "    .dataframe thead th {\n",
       "        text-align: right;\n",
       "    }\n",
       "</style>\n",
       "<table border=\"1\" class=\"dataframe\">\n",
       "  <thead>\n",
       "    <tr style=\"text-align: right;\">\n",
       "      <th></th>\n",
       "      <th>text</th>\n",
       "      <th>meta</th>\n",
       "    </tr>\n",
       "  </thead>\n",
       "  <tbody>\n",
       "    <tr>\n",
       "      <th>562</th>\n",
       "      <td>Monsieur B., âgé de 58 ans, a consulté en janv...</td>\n",
       "      <td>{'Id': '712'}</td>\n",
       "    </tr>\n",
       "    <tr>\n",
       "      <th>563</th>\n",
       "      <td>D.M., homme de 51 ans, sans antécédent, consul...</td>\n",
       "      <td>{'Id': '713'}</td>\n",
       "    </tr>\n",
       "    <tr>\n",
       "      <th>564</th>\n",
       "      <td>P., homme de 23 ans, était rapatrié de Calcutt...</td>\n",
       "      <td>{'Id': '714'}</td>\n",
       "    </tr>\n",
       "    <tr>\n",
       "      <th>565</th>\n",
       "      <td>L.G, homme de 64 ans, avait comme antécédent u...</td>\n",
       "      <td>{'Id': '715'}</td>\n",
       "    </tr>\n",
       "    <tr>\n",
       "      <th>566</th>\n",
       "      <td>B.A…, âgé de 50 ans, sans antécédents patholog...</td>\n",
       "      <td>{'Id': '716'}</td>\n",
       "    </tr>\n",
       "  </tbody>\n",
       "</table>\n",
       "</div>"
      ],
      "text/plain": [
       "                                                  text           meta\n",
       "562  Monsieur B., âgé de 58 ans, a consulté en janv...  {'Id': '712'}\n",
       "563  D.M., homme de 51 ans, sans antécédent, consul...  {'Id': '713'}\n",
       "564  P., homme de 23 ans, était rapatrié de Calcutt...  {'Id': '714'}\n",
       "565  L.G, homme de 64 ans, avait comme antécédent u...  {'Id': '715'}\n",
       "566  B.A…, âgé de 50 ans, sans antécédents patholog...  {'Id': '716'}"
      ]
     },
     "execution_count": 6,
     "metadata": {},
     "output_type": "execute_result"
    }
   ],
   "source": [
    "data.tail()"
   ]
  },
  {
   "cell_type": "code",
   "execution_count": 7,
   "id": "3657ec1a",
   "metadata": {},
   "outputs": [],
   "source": [
    "data.drop(['meta'], axis=1, inplace=True)"
   ]
  },
  {
   "cell_type": "code",
   "execution_count": 8,
   "id": "a3a80a3b",
   "metadata": {},
   "outputs": [
    {
     "data": {
      "text/html": [
       "<div>\n",
       "<style scoped>\n",
       "    .dataframe tbody tr th:only-of-type {\n",
       "        vertical-align: middle;\n",
       "    }\n",
       "\n",
       "    .dataframe tbody tr th {\n",
       "        vertical-align: top;\n",
       "    }\n",
       "\n",
       "    .dataframe thead th {\n",
       "        text-align: right;\n",
       "    }\n",
       "</style>\n",
       "<table border=\"1\" class=\"dataframe\">\n",
       "  <thead>\n",
       "    <tr style=\"text-align: right;\">\n",
       "      <th></th>\n",
       "      <th>text</th>\n",
       "    </tr>\n",
       "  </thead>\n",
       "  <tbody>\n",
       "    <tr>\n",
       "      <th>0</th>\n",
       "      <td>Un homme âgé de 77 ans présentait des signes c...</td>\n",
       "    </tr>\n",
       "    <tr>\n",
       "      <th>1</th>\n",
       "      <td>Mr. R,R âgé de 53 ans sans antécédents patholo...</td>\n",
       "    </tr>\n",
       "    <tr>\n",
       "      <th>2</th>\n",
       "      <td>Un homme de 47 ans aux antécédents d’infarctus...</td>\n",
       "    </tr>\n",
       "    <tr>\n",
       "      <th>3</th>\n",
       "      <td>Mme C.S..., âgée de 25 ans, célibataire, sans ...</td>\n",
       "    </tr>\n",
       "    <tr>\n",
       "      <th>4</th>\n",
       "      <td>Un adénocarcinome prostatique avait été diagno...</td>\n",
       "    </tr>\n",
       "    <tr>\n",
       "      <th>...</th>\n",
       "      <td>...</td>\n",
       "    </tr>\n",
       "    <tr>\n",
       "      <th>562</th>\n",
       "      <td>Monsieur B., âgé de 58 ans, a consulté en janv...</td>\n",
       "    </tr>\n",
       "    <tr>\n",
       "      <th>563</th>\n",
       "      <td>D.M., homme de 51 ans, sans antécédent, consul...</td>\n",
       "    </tr>\n",
       "    <tr>\n",
       "      <th>564</th>\n",
       "      <td>P., homme de 23 ans, était rapatrié de Calcutt...</td>\n",
       "    </tr>\n",
       "    <tr>\n",
       "      <th>565</th>\n",
       "      <td>L.G, homme de 64 ans, avait comme antécédent u...</td>\n",
       "    </tr>\n",
       "    <tr>\n",
       "      <th>566</th>\n",
       "      <td>B.A…, âgé de 50 ans, sans antécédents patholog...</td>\n",
       "    </tr>\n",
       "  </tbody>\n",
       "</table>\n",
       "<p>567 rows × 1 columns</p>\n",
       "</div>"
      ],
      "text/plain": [
       "                                                  text\n",
       "0    Un homme âgé de 77 ans présentait des signes c...\n",
       "1    Mr. R,R âgé de 53 ans sans antécédents patholo...\n",
       "2    Un homme de 47 ans aux antécédents d’infarctus...\n",
       "3    Mme C.S..., âgée de 25 ans, célibataire, sans ...\n",
       "4    Un adénocarcinome prostatique avait été diagno...\n",
       "..                                                 ...\n",
       "562  Monsieur B., âgé de 58 ans, a consulté en janv...\n",
       "563  D.M., homme de 51 ans, sans antécédent, consul...\n",
       "564  P., homme de 23 ans, était rapatrié de Calcutt...\n",
       "565  L.G, homme de 64 ans, avait comme antécédent u...\n",
       "566  B.A…, âgé de 50 ans, sans antécédents patholog...\n",
       "\n",
       "[567 rows x 1 columns]"
      ]
     },
     "execution_count": 8,
     "metadata": {},
     "output_type": "execute_result"
    }
   ],
   "source": [
    "data"
   ]
  },
  {
   "cell_type": "code",
   "execution_count": null,
   "id": "8a60147e",
   "metadata": {},
   "outputs": [],
   "source": []
  }
 ],
 "metadata": {
  "interpreter": {
   "hash": "40d3a090f54c6569ab1632332b64b2c03c39dcf918b08424e98f38b5ae0af88f"
  },
  "kernelspec": {
   "display_name": "Python 3.8.8 64-bit ('base': conda)",
   "name": "python3"
  },
  "language_info": {
   "codemirror_mode": {
    "name": "ipython",
    "version": 3
   },
   "file_extension": ".py",
   "mimetype": "text/x-python",
   "name": "python",
   "nbconvert_exporter": "python",
   "pygments_lexer": "ipython3",
   "version": "3.8.8"
  }
 },
 "nbformat": 4,
 "nbformat_minor": 5
}
